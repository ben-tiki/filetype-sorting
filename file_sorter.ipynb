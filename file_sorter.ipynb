{
 "cells": [
  {
   "cell_type": "code",
   "execution_count": 1,
   "id": "23ee48ce",
   "metadata": {},
   "outputs": [],
   "source": [
    "import os\n",
    "import shutil"
   ]
  },
  {
   "cell_type": "code",
   "execution_count": 10,
   "id": "59cf2c57",
   "metadata": {},
   "outputs": [],
   "source": [
    "# list of every type of file to be sorted\n",
    "filetypes = [\"pdf\", \"docx\", \"png\", \"txt\", \"json\", \"xlsx\", \"csv\", \"jpg\", \"py\", \"pynb\",\n",
    "             \"rar\", \"html\", \"zip\", \"htm\", \"jpg\", \"pptx\", \"doc\", \"ipynb\"]\n",
    "\n",
    "# the directory which contents will be sorted\n",
    "PARENT_DIR = \"C:\\\\Users\\\\Benja\\\\Desktop\"\n",
    "\n",
    "#list every file in the parent directory\n",
    "for filetype in os.listdir(PARENT_DIR):\n",
    "\n",
    "    # get the filetype of the file\n",
    "    filetype_extension = filetype.split(\".\")[-1]\n",
    "\n",
    "    # if the filetype is in the list of filetypes, move the file to the correct directory\n",
    "    if filetype_extension in filetypes:\n",
    "\n",
    "        # if the path to the filetype directory doesn't exist, the create it\n",
    "        if not os.path.exists(os.path.join(PARENT_DIR, filetype_extension)):\n",
    "\n",
    "            os.mkdir(os.path.join(PARENT_DIR, filetype_extension))\n",
    "        \n",
    "        # move the file to the filetype directory (now that is exists)\n",
    "        shutil.move(os.path.join(PARENT_DIR, filetype), os.path.join(PARENT_DIR, filetype_extension))\n",
    "\n",
    "    # if the filetype is not in the list of filetypes, then do nothing\n",
    "    else:\n",
    "            \n",
    "        pass  "
   ]
  }
 ],
 "metadata": {
  "interpreter": {
   "hash": "db0e05d799ad150ff6f95b13eef15f09568f87966873a3b36fbb1aeeee34a4e4"
  },
  "kernelspec": {
   "display_name": "Python 3.9.7 64-bit",
   "language": "python",
   "name": "python3"
  },
  "language_info": {
   "codemirror_mode": {
    "name": "ipython",
    "version": 3
   },
   "file_extension": ".py",
   "mimetype": "text/x-python",
   "name": "python",
   "nbconvert_exporter": "python",
   "pygments_lexer": "ipython3",
   "version": "3.9.7"
  }
 },
 "nbformat": 4,
 "nbformat_minor": 5
}
